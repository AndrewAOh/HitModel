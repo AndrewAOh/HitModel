{
  "cells": [
    {
      "cell_type": "markdown",
      "metadata": {
        "id": "view-in-github",
        "colab_type": "text"
      },
      "source": [
        "<a href=\"https://colab.research.google.com/github/AndrewAOh/HitModel/blob/main/Updated_HitModel.ipynb\" target=\"_parent\"><img src=\"https://colab.research.google.com/assets/colab-badge.svg\" alt=\"Open In Colab\"/></a>"
      ]
    },
    {
      "cell_type": "code",
      "execution_count": 1,
      "metadata": {
        "colab": {
          "base_uri": "https://localhost:8080/"
        },
        "outputId": "09af82a4-db98-4990-89f7-a5f316d9f88e",
        "id": "z2pS0Adghkaz"
      },
      "outputs": [
        {
          "output_type": "stream",
          "name": "stdout",
          "text": [
            "Mounted at /content/drive\n"
          ]
        }
      ],
      "source": [
        "from google.colab import drive\n",
        "drive.mount('/content/drive')"
      ]
    },
    {
      "cell_type": "markdown",
      "source": [
        "# Importing Data"
      ],
      "metadata": {
        "id": "TA1psgIahpkP"
      }
    },
    {
      "cell_type": "code",
      "execution_count": 51,
      "metadata": {
        "id": "nYo8fEHzmH0f",
        "colab": {
          "base_uri": "https://localhost:8080/"
        },
        "outputId": "9e889897-2aed-4864-f816-e028cdd09f63"
      },
      "outputs": [
        {
          "output_type": "stream",
          "name": "stderr",
          "text": [
            "<ipython-input-51-5db35e9a50b0>:6: DtypeWarning: Columns (27,92,93,94,167) have mixed types. Specify dtype option on import or set low_memory=False.\n",
            "  df2 = pd.read_csv(\"/content/drive/Shareddrives/USC Baseball/Combined Data/23_NCAA_Dataset*.csv\")\n"
          ]
        }
      ],
      "source": [
        "import pandas as pd\n",
        "import glob\n",
        "import os\n",
        "import numpy as np\n",
        "\n",
        "df2 = pd.read_csv(\"/content/drive/Shareddrives/USC Baseball/Combined Data/23_NCAA_Dataset*.csv\")"
      ]
    },
    {
      "cell_type": "markdown",
      "source": [
        "# Clean Up Dataset & Recode Variables"
      ],
      "metadata": {
        "id": "1ppNkVz3RBmW"
      }
    },
    {
      "cell_type": "code",
      "execution_count": 52,
      "metadata": {
        "id": "pkf9j2mhXYfl"
      },
      "outputs": [],
      "source": [
        "cleanD1 = df2[df2['Level'] == \"D1\"]"
      ]
    },
    {
      "cell_type": "code",
      "source": [
        "BIPdf = cleanD1[cleanD1['PitchCall'].str.contains(\"InPlay\") == True]\n",
        "BIPdf = BIPdf[BIPdf['TaggedPitchType'].str.contains(\"Undefined\") == False]\n",
        "\n",
        "df = BIPdf"
      ],
      "metadata": {
        "id": "VniF501Rk2Dp"
      },
      "execution_count": 53,
      "outputs": []
    },
    {
      "cell_type": "code",
      "execution_count": 54,
      "metadata": {
        "id": "LtmlNufEXMmG",
        "colab": {
          "base_uri": "https://localhost:8080/"
        },
        "outputId": "4e85e21b-e0ec-48c6-ffe6-f4e6053e4ef5"
      },
      "outputs": [
        {
          "output_type": "stream",
          "name": "stderr",
          "text": [
            "<ipython-input-54-9e151446c46b>:21: SettingWithCopyWarning: \n",
            "A value is trying to be set on a copy of a slice from a DataFrame.\n",
            "Try using .loc[row_indexer,col_indexer] = value instead\n",
            "\n",
            "See the caveats in the documentation: https://pandas.pydata.org/pandas-docs/stable/user_guide/indexing.html#returning-a-view-versus-a-copy\n",
            "  df['isHit'] = np.select(conditions, values)\n"
          ]
        }
      ],
      "source": [
        "from sklearn.model_selection import train_test_split\n",
        "import matplotlib as plt\n",
        "from sklearn import datasets\n",
        "from sklearn import metrics\n",
        "\n",
        "\n",
        "# creates list of conditions that determine whether PlayResult is a hit or not\n",
        "conditions = [\n",
        "    (df['PlayResult'] == 'Single'),\n",
        "    (df['PlayResult'] == 'Double'),\n",
        "    (df['PlayResult'] == 'Triple'),\n",
        "    (df['PlayResult'] == 'HomeRun'),\n",
        "    (df['PlayResult'] == 'Out'),\n",
        "    (df['PlayResult'] == 'Error'),\n",
        "    (df['PlayResult'] == 'Sacrifice'),\n",
        "    (df['PlayResult'] == 'FieldersChoice')\n",
        "]\n",
        "# creates a list of values to assign for hit (1) or not (0)\n",
        "values = [1, 1, 1, 1, 0, 0, 0, 0]\n",
        "# creates new column determining hit or not and assign values to it based on the conditions\n",
        "df['isHit'] = np.select(conditions, values)"
      ]
    },
    {
      "cell_type": "code",
      "source": [
        "# Recodes pitch types into 5 different buckets\n",
        "\n",
        "# sinkers, 4 seam, 2 seam, 1 seam = fastball\n",
        "# cutters = sliders\n",
        "# splitter = changeup\n",
        "\n",
        "# creates list of conditions that determine whether TaggedPitchType is fastball/slider/changeup/curveball\n",
        "conditions = [\n",
        "    (df['TaggedPitchType'].str.contains('Fastball|FourSeamFastBall|TwoSeamFastBall|OneSeamFastBall|Sinker')),  # fastballs\n",
        "    (df['TaggedPitchType'].str.contains('Slider|Cutter')),  # sliders\n",
        "    (df['TaggedPitchType'].str.contains('ChangeUp|Splitter')),  # changeups\n",
        "    (df['TaggedPitchType'].str.contains('Curveball')) # curveballs\n",
        "]\n",
        "\n",
        "# creates a list of values to assign for pitch types\n",
        "values = [0, 1, 2, 3]\n",
        "# creates new column determining pitch type and assign values to it based on the conditions; assigns 4 if an other pitch\n",
        "df['pitchType'] = np.select(conditions, values, default = 4)"
      ],
      "metadata": {
        "id": "U5WkSX3DMhvZ"
      },
      "execution_count": 55,
      "outputs": []
    },
    {
      "cell_type": "code",
      "source": [
        "# Recodes Pitch Handedness to binary variable\n",
        "\n",
        "conditions = [\n",
        "    (df['PitcherThrows'] == 'Right'),  # RHP\n",
        "    (df['PitcherThrows'] == 'Left')  # LHP\n",
        "]\n",
        "\n",
        "# creates a list of values to assign for pitch handedness where RHP = 1 & LHP = 0\n",
        "values = [0, 1]\n",
        "# creates new column determining pitch hand\n",
        "df['pitcherHand'] = np.select(conditions, values)"
      ],
      "metadata": {
        "id": "fV0xh3r1RVtG"
      },
      "execution_count": 56,
      "outputs": []
    },
    {
      "cell_type": "code",
      "source": [
        "# Recodes Hitting Handedness to binary variable\n",
        "\n",
        "conditions = [\n",
        "    (df['BatterSide'] == 'Right'),  # RHB\n",
        "    (df['BatterSide'] == 'Left')  # LHB\n",
        "]\n",
        "\n",
        "# creates a list of values to assign for hitter handedness where RHB = 1 & LHB = 0\n",
        "values = [0, 1]\n",
        "# creates new column determining hit hand\n",
        "df['hitterHand'] = np.select(conditions, values)"
      ],
      "metadata": {
        "id": "e1PcMVIYR511"
      },
      "execution_count": 57,
      "outputs": []
    },
    {
      "cell_type": "code",
      "source": [
        "# Calculates x & y position of the ball hit\n",
        "df['xSpray'] = np.sin(np.radians(df['Bearing'])) * df['Distance']\n",
        "df['ySpray'] = np.cos(np.radians(df['Bearing'])) * df['Distance']"
      ],
      "metadata": {
        "id": "GNmCZ9gjkp2o"
      },
      "execution_count": 58,
      "outputs": []
    },
    {
      "cell_type": "markdown",
      "source": [
        "# Following Code Identifies Important Variables"
      ],
      "metadata": {
        "id": "TSz9fxdVkPGj"
      }
    },
    {
      "cell_type": "markdown",
      "source": [
        "Finds correlations between variables to reduce multicollinearity"
      ],
      "metadata": {
        "id": "uGVeBnvmmgRk"
      }
    },
    {
      "cell_type": "code",
      "source": [
        "df4 = df[['pitchType', 'pitcherHand', 'hitterHand', 'ExitSpeed', 'Angle', 'xSpray', 'ySpray', 'HitSpinRate', 'Distance', 'Bearing', 'HangTime', 'MaxHeight', 'ContactPositionX', 'ContactPositionY', 'ContactPositionZ', 'isHit']].dropna()\n",
        "df4.corr()"
      ],
      "metadata": {
        "colab": {
          "base_uri": "https://localhost:8080/",
          "height": 615
        },
        "id": "-ObL9xKVhx9A",
        "outputId": "9b5504bd-6261-4bdf-b073-6f6bedac1d45"
      },
      "execution_count": 27,
      "outputs": [
        {
          "output_type": "execute_result",
          "data": {
            "text/plain": [
              "                  pitchType  pitcherHand  hitterHand  ExitSpeed     Angle  \\\n",
              "pitchType          1.000000     0.014784    0.006894  -0.054404 -0.021890   \n",
              "pitcherHand        0.014784     1.000000   -0.066501  -0.021538  0.000436   \n",
              "hitterHand         0.006894    -0.066501    1.000000   0.013272  0.003759   \n",
              "ExitSpeed         -0.054404    -0.021538    0.013272   1.000000 -0.102490   \n",
              "Angle             -0.021890     0.000436    0.003759  -0.102490  1.000000   \n",
              "xSpray            -0.020308    -0.002298    0.057625  -0.029571  0.019255   \n",
              "ySpray            -0.046623    -0.013664    0.005250   0.373549  0.623747   \n",
              "HitSpinRate       -0.021545    -0.002640   -0.005699  -0.129139  0.453143   \n",
              "Distance          -0.043874    -0.013495    0.006744   0.377794  0.650527   \n",
              "Bearing           -0.023360    -0.002937    0.102610  -0.025962  0.052909   \n",
              "HangTime          -0.040685    -0.007999    0.001993   0.132667  0.913747   \n",
              "MaxHeight         -0.039255    -0.005740    0.004643   0.120895  0.913534   \n",
              "ContactPositionX   0.238123     0.006344   -0.019458  -0.036870  0.080786   \n",
              "ContactPositionY  -0.157831    -0.010440   -0.041064  -0.052064  0.110225   \n",
              "ContactPositionZ   0.035174     0.139447   -0.242510   0.016598  0.008145   \n",
              "isHit             -0.001338    -0.001459    0.001092   0.222650 -0.276471   \n",
              "\n",
              "                    xSpray    ySpray  HitSpinRate  Distance   Bearing  \\\n",
              "pitchType        -0.020308 -0.046623    -0.021545 -0.043874 -0.023360   \n",
              "pitcherHand      -0.002298 -0.013664    -0.002640 -0.013495 -0.002937   \n",
              "hitterHand        0.057625  0.005250    -0.005699  0.006744  0.102610   \n",
              "ExitSpeed        -0.029571  0.373549    -0.129139  0.377794 -0.025962   \n",
              "Angle             0.019255  0.623747     0.453143  0.650527  0.052909   \n",
              "xSpray            1.000000 -0.008722     0.095147 -0.012475  0.898454   \n",
              "ySpray           -0.008722  1.000000     0.092480  0.981841  0.029574   \n",
              "HitSpinRate       0.095147  0.092480     1.000000  0.129453  0.099566   \n",
              "Distance         -0.012475  0.981841     0.129453  1.000000  0.026572   \n",
              "Bearing           0.898454  0.029574     0.099566  0.026572  1.000000   \n",
              "HangTime          0.017476  0.847354     0.376682  0.863695  0.054072   \n",
              "MaxHeight         0.014814  0.695575     0.442866  0.709563  0.044950   \n",
              "ContactPositionX -0.096928  0.039882    -0.034778  0.046072 -0.103168   \n",
              "ContactPositionY -0.017216  0.036888     0.029764  0.040709 -0.021033   \n",
              "ContactPositionZ  0.238569  0.024580     0.017156  0.021436  0.243013   \n",
              "isHit            -0.047676 -0.037981    -0.208308 -0.010108 -0.051301   \n",
              "\n",
              "                  HangTime  MaxHeight  ContactPositionX  ContactPositionY  \\\n",
              "pitchType        -0.040685  -0.039255          0.238123         -0.157831   \n",
              "pitcherHand      -0.007999  -0.005740          0.006344         -0.010440   \n",
              "hitterHand        0.001993   0.004643         -0.019458         -0.041064   \n",
              "ExitSpeed         0.132667   0.120895         -0.036870         -0.052064   \n",
              "Angle             0.913747   0.913534          0.080786          0.110225   \n",
              "xSpray            0.017476   0.014814         -0.096928         -0.017216   \n",
              "ySpray            0.847354   0.695575          0.039882          0.036888   \n",
              "HitSpinRate       0.376682   0.442866         -0.034778          0.029764   \n",
              "Distance          0.863695   0.709563          0.046072          0.040709   \n",
              "Bearing           0.054072   0.044950         -0.103168         -0.021033   \n",
              "HangTime          1.000000   0.952493          0.070027          0.102016   \n",
              "MaxHeight         0.952493   1.000000          0.092953          0.137024   \n",
              "ContactPositionX  0.070027   0.092953          1.000000         -0.077556   \n",
              "ContactPositionY  0.102016   0.137024         -0.077556          1.000000   \n",
              "ContactPositionZ  0.016504   0.008426          0.013806         -0.059662   \n",
              "isHit            -0.226978  -0.284477         -0.012118         -0.049223   \n",
              "\n",
              "                  ContactPositionZ     isHit  \n",
              "pitchType                 0.035174 -0.001338  \n",
              "pitcherHand               0.139447 -0.001459  \n",
              "hitterHand               -0.242510  0.001092  \n",
              "ExitSpeed                 0.016598  0.222650  \n",
              "Angle                     0.008145 -0.276471  \n",
              "xSpray                    0.238569 -0.047676  \n",
              "ySpray                    0.024580 -0.037981  \n",
              "HitSpinRate               0.017156 -0.208308  \n",
              "Distance                  0.021436 -0.010108  \n",
              "Bearing                   0.243013 -0.051301  \n",
              "HangTime                  0.016504 -0.226978  \n",
              "MaxHeight                 0.008426 -0.284477  \n",
              "ContactPositionX          0.013806 -0.012118  \n",
              "ContactPositionY         -0.059662 -0.049223  \n",
              "ContactPositionZ          1.000000  0.001487  \n",
              "isHit                     0.001487  1.000000  "
            ],
            "text/html": [
              "\n",
              "\n",
              "  <div id=\"df-ff7b9a2f-b0db-4f4f-9a00-bca7d24fc079\">\n",
              "    <div class=\"colab-df-container\">\n",
              "      <div>\n",
              "<style scoped>\n",
              "    .dataframe tbody tr th:only-of-type {\n",
              "        vertical-align: middle;\n",
              "    }\n",
              "\n",
              "    .dataframe tbody tr th {\n",
              "        vertical-align: top;\n",
              "    }\n",
              "\n",
              "    .dataframe thead th {\n",
              "        text-align: right;\n",
              "    }\n",
              "</style>\n",
              "<table border=\"1\" class=\"dataframe\">\n",
              "  <thead>\n",
              "    <tr style=\"text-align: right;\">\n",
              "      <th></th>\n",
              "      <th>pitchType</th>\n",
              "      <th>pitcherHand</th>\n",
              "      <th>hitterHand</th>\n",
              "      <th>ExitSpeed</th>\n",
              "      <th>Angle</th>\n",
              "      <th>xSpray</th>\n",
              "      <th>ySpray</th>\n",
              "      <th>HitSpinRate</th>\n",
              "      <th>Distance</th>\n",
              "      <th>Bearing</th>\n",
              "      <th>HangTime</th>\n",
              "      <th>MaxHeight</th>\n",
              "      <th>ContactPositionX</th>\n",
              "      <th>ContactPositionY</th>\n",
              "      <th>ContactPositionZ</th>\n",
              "      <th>isHit</th>\n",
              "    </tr>\n",
              "  </thead>\n",
              "  <tbody>\n",
              "    <tr>\n",
              "      <th>pitchType</th>\n",
              "      <td>1.000000</td>\n",
              "      <td>0.014784</td>\n",
              "      <td>0.006894</td>\n",
              "      <td>-0.054404</td>\n",
              "      <td>-0.021890</td>\n",
              "      <td>-0.020308</td>\n",
              "      <td>-0.046623</td>\n",
              "      <td>-0.021545</td>\n",
              "      <td>-0.043874</td>\n",
              "      <td>-0.023360</td>\n",
              "      <td>-0.040685</td>\n",
              "      <td>-0.039255</td>\n",
              "      <td>0.238123</td>\n",
              "      <td>-0.157831</td>\n",
              "      <td>0.035174</td>\n",
              "      <td>-0.001338</td>\n",
              "    </tr>\n",
              "    <tr>\n",
              "      <th>pitcherHand</th>\n",
              "      <td>0.014784</td>\n",
              "      <td>1.000000</td>\n",
              "      <td>-0.066501</td>\n",
              "      <td>-0.021538</td>\n",
              "      <td>0.000436</td>\n",
              "      <td>-0.002298</td>\n",
              "      <td>-0.013664</td>\n",
              "      <td>-0.002640</td>\n",
              "      <td>-0.013495</td>\n",
              "      <td>-0.002937</td>\n",
              "      <td>-0.007999</td>\n",
              "      <td>-0.005740</td>\n",
              "      <td>0.006344</td>\n",
              "      <td>-0.010440</td>\n",
              "      <td>0.139447</td>\n",
              "      <td>-0.001459</td>\n",
              "    </tr>\n",
              "    <tr>\n",
              "      <th>hitterHand</th>\n",
              "      <td>0.006894</td>\n",
              "      <td>-0.066501</td>\n",
              "      <td>1.000000</td>\n",
              "      <td>0.013272</td>\n",
              "      <td>0.003759</td>\n",
              "      <td>0.057625</td>\n",
              "      <td>0.005250</td>\n",
              "      <td>-0.005699</td>\n",
              "      <td>0.006744</td>\n",
              "      <td>0.102610</td>\n",
              "      <td>0.001993</td>\n",
              "      <td>0.004643</td>\n",
              "      <td>-0.019458</td>\n",
              "      <td>-0.041064</td>\n",
              "      <td>-0.242510</td>\n",
              "      <td>0.001092</td>\n",
              "    </tr>\n",
              "    <tr>\n",
              "      <th>ExitSpeed</th>\n",
              "      <td>-0.054404</td>\n",
              "      <td>-0.021538</td>\n",
              "      <td>0.013272</td>\n",
              "      <td>1.000000</td>\n",
              "      <td>-0.102490</td>\n",
              "      <td>-0.029571</td>\n",
              "      <td>0.373549</td>\n",
              "      <td>-0.129139</td>\n",
              "      <td>0.377794</td>\n",
              "      <td>-0.025962</td>\n",
              "      <td>0.132667</td>\n",
              "      <td>0.120895</td>\n",
              "      <td>-0.036870</td>\n",
              "      <td>-0.052064</td>\n",
              "      <td>0.016598</td>\n",
              "      <td>0.222650</td>\n",
              "    </tr>\n",
              "    <tr>\n",
              "      <th>Angle</th>\n",
              "      <td>-0.021890</td>\n",
              "      <td>0.000436</td>\n",
              "      <td>0.003759</td>\n",
              "      <td>-0.102490</td>\n",
              "      <td>1.000000</td>\n",
              "      <td>0.019255</td>\n",
              "      <td>0.623747</td>\n",
              "      <td>0.453143</td>\n",
              "      <td>0.650527</td>\n",
              "      <td>0.052909</td>\n",
              "      <td>0.913747</td>\n",
              "      <td>0.913534</td>\n",
              "      <td>0.080786</td>\n",
              "      <td>0.110225</td>\n",
              "      <td>0.008145</td>\n",
              "      <td>-0.276471</td>\n",
              "    </tr>\n",
              "    <tr>\n",
              "      <th>xSpray</th>\n",
              "      <td>-0.020308</td>\n",
              "      <td>-0.002298</td>\n",
              "      <td>0.057625</td>\n",
              "      <td>-0.029571</td>\n",
              "      <td>0.019255</td>\n",
              "      <td>1.000000</td>\n",
              "      <td>-0.008722</td>\n",
              "      <td>0.095147</td>\n",
              "      <td>-0.012475</td>\n",
              "      <td>0.898454</td>\n",
              "      <td>0.017476</td>\n",
              "      <td>0.014814</td>\n",
              "      <td>-0.096928</td>\n",
              "      <td>-0.017216</td>\n",
              "      <td>0.238569</td>\n",
              "      <td>-0.047676</td>\n",
              "    </tr>\n",
              "    <tr>\n",
              "      <th>ySpray</th>\n",
              "      <td>-0.046623</td>\n",
              "      <td>-0.013664</td>\n",
              "      <td>0.005250</td>\n",
              "      <td>0.373549</td>\n",
              "      <td>0.623747</td>\n",
              "      <td>-0.008722</td>\n",
              "      <td>1.000000</td>\n",
              "      <td>0.092480</td>\n",
              "      <td>0.981841</td>\n",
              "      <td>0.029574</td>\n",
              "      <td>0.847354</td>\n",
              "      <td>0.695575</td>\n",
              "      <td>0.039882</td>\n",
              "      <td>0.036888</td>\n",
              "      <td>0.024580</td>\n",
              "      <td>-0.037981</td>\n",
              "    </tr>\n",
              "    <tr>\n",
              "      <th>HitSpinRate</th>\n",
              "      <td>-0.021545</td>\n",
              "      <td>-0.002640</td>\n",
              "      <td>-0.005699</td>\n",
              "      <td>-0.129139</td>\n",
              "      <td>0.453143</td>\n",
              "      <td>0.095147</td>\n",
              "      <td>0.092480</td>\n",
              "      <td>1.000000</td>\n",
              "      <td>0.129453</td>\n",
              "      <td>0.099566</td>\n",
              "      <td>0.376682</td>\n",
              "      <td>0.442866</td>\n",
              "      <td>-0.034778</td>\n",
              "      <td>0.029764</td>\n",
              "      <td>0.017156</td>\n",
              "      <td>-0.208308</td>\n",
              "    </tr>\n",
              "    <tr>\n",
              "      <th>Distance</th>\n",
              "      <td>-0.043874</td>\n",
              "      <td>-0.013495</td>\n",
              "      <td>0.006744</td>\n",
              "      <td>0.377794</td>\n",
              "      <td>0.650527</td>\n",
              "      <td>-0.012475</td>\n",
              "      <td>0.981841</td>\n",
              "      <td>0.129453</td>\n",
              "      <td>1.000000</td>\n",
              "      <td>0.026572</td>\n",
              "      <td>0.863695</td>\n",
              "      <td>0.709563</td>\n",
              "      <td>0.046072</td>\n",
              "      <td>0.040709</td>\n",
              "      <td>0.021436</td>\n",
              "      <td>-0.010108</td>\n",
              "    </tr>\n",
              "    <tr>\n",
              "      <th>Bearing</th>\n",
              "      <td>-0.023360</td>\n",
              "      <td>-0.002937</td>\n",
              "      <td>0.102610</td>\n",
              "      <td>-0.025962</td>\n",
              "      <td>0.052909</td>\n",
              "      <td>0.898454</td>\n",
              "      <td>0.029574</td>\n",
              "      <td>0.099566</td>\n",
              "      <td>0.026572</td>\n",
              "      <td>1.000000</td>\n",
              "      <td>0.054072</td>\n",
              "      <td>0.044950</td>\n",
              "      <td>-0.103168</td>\n",
              "      <td>-0.021033</td>\n",
              "      <td>0.243013</td>\n",
              "      <td>-0.051301</td>\n",
              "    </tr>\n",
              "    <tr>\n",
              "      <th>HangTime</th>\n",
              "      <td>-0.040685</td>\n",
              "      <td>-0.007999</td>\n",
              "      <td>0.001993</td>\n",
              "      <td>0.132667</td>\n",
              "      <td>0.913747</td>\n",
              "      <td>0.017476</td>\n",
              "      <td>0.847354</td>\n",
              "      <td>0.376682</td>\n",
              "      <td>0.863695</td>\n",
              "      <td>0.054072</td>\n",
              "      <td>1.000000</td>\n",
              "      <td>0.952493</td>\n",
              "      <td>0.070027</td>\n",
              "      <td>0.102016</td>\n",
              "      <td>0.016504</td>\n",
              "      <td>-0.226978</td>\n",
              "    </tr>\n",
              "    <tr>\n",
              "      <th>MaxHeight</th>\n",
              "      <td>-0.039255</td>\n",
              "      <td>-0.005740</td>\n",
              "      <td>0.004643</td>\n",
              "      <td>0.120895</td>\n",
              "      <td>0.913534</td>\n",
              "      <td>0.014814</td>\n",
              "      <td>0.695575</td>\n",
              "      <td>0.442866</td>\n",
              "      <td>0.709563</td>\n",
              "      <td>0.044950</td>\n",
              "      <td>0.952493</td>\n",
              "      <td>1.000000</td>\n",
              "      <td>0.092953</td>\n",
              "      <td>0.137024</td>\n",
              "      <td>0.008426</td>\n",
              "      <td>-0.284477</td>\n",
              "    </tr>\n",
              "    <tr>\n",
              "      <th>ContactPositionX</th>\n",
              "      <td>0.238123</td>\n",
              "      <td>0.006344</td>\n",
              "      <td>-0.019458</td>\n",
              "      <td>-0.036870</td>\n",
              "      <td>0.080786</td>\n",
              "      <td>-0.096928</td>\n",
              "      <td>0.039882</td>\n",
              "      <td>-0.034778</td>\n",
              "      <td>0.046072</td>\n",
              "      <td>-0.103168</td>\n",
              "      <td>0.070027</td>\n",
              "      <td>0.092953</td>\n",
              "      <td>1.000000</td>\n",
              "      <td>-0.077556</td>\n",
              "      <td>0.013806</td>\n",
              "      <td>-0.012118</td>\n",
              "    </tr>\n",
              "    <tr>\n",
              "      <th>ContactPositionY</th>\n",
              "      <td>-0.157831</td>\n",
              "      <td>-0.010440</td>\n",
              "      <td>-0.041064</td>\n",
              "      <td>-0.052064</td>\n",
              "      <td>0.110225</td>\n",
              "      <td>-0.017216</td>\n",
              "      <td>0.036888</td>\n",
              "      <td>0.029764</td>\n",
              "      <td>0.040709</td>\n",
              "      <td>-0.021033</td>\n",
              "      <td>0.102016</td>\n",
              "      <td>0.137024</td>\n",
              "      <td>-0.077556</td>\n",
              "      <td>1.000000</td>\n",
              "      <td>-0.059662</td>\n",
              "      <td>-0.049223</td>\n",
              "    </tr>\n",
              "    <tr>\n",
              "      <th>ContactPositionZ</th>\n",
              "      <td>0.035174</td>\n",
              "      <td>0.139447</td>\n",
              "      <td>-0.242510</td>\n",
              "      <td>0.016598</td>\n",
              "      <td>0.008145</td>\n",
              "      <td>0.238569</td>\n",
              "      <td>0.024580</td>\n",
              "      <td>0.017156</td>\n",
              "      <td>0.021436</td>\n",
              "      <td>0.243013</td>\n",
              "      <td>0.016504</td>\n",
              "      <td>0.008426</td>\n",
              "      <td>0.013806</td>\n",
              "      <td>-0.059662</td>\n",
              "      <td>1.000000</td>\n",
              "      <td>0.001487</td>\n",
              "    </tr>\n",
              "    <tr>\n",
              "      <th>isHit</th>\n",
              "      <td>-0.001338</td>\n",
              "      <td>-0.001459</td>\n",
              "      <td>0.001092</td>\n",
              "      <td>0.222650</td>\n",
              "      <td>-0.276471</td>\n",
              "      <td>-0.047676</td>\n",
              "      <td>-0.037981</td>\n",
              "      <td>-0.208308</td>\n",
              "      <td>-0.010108</td>\n",
              "      <td>-0.051301</td>\n",
              "      <td>-0.226978</td>\n",
              "      <td>-0.284477</td>\n",
              "      <td>-0.012118</td>\n",
              "      <td>-0.049223</td>\n",
              "      <td>0.001487</td>\n",
              "      <td>1.000000</td>\n",
              "    </tr>\n",
              "  </tbody>\n",
              "</table>\n",
              "</div>\n",
              "      <button class=\"colab-df-convert\" onclick=\"convertToInteractive('df-ff7b9a2f-b0db-4f4f-9a00-bca7d24fc079')\"\n",
              "              title=\"Convert this dataframe to an interactive table.\"\n",
              "              style=\"display:none;\">\n",
              "\n",
              "  <svg xmlns=\"http://www.w3.org/2000/svg\" height=\"24px\"viewBox=\"0 0 24 24\"\n",
              "       width=\"24px\">\n",
              "    <path d=\"M0 0h24v24H0V0z\" fill=\"none\"/>\n",
              "    <path d=\"M18.56 5.44l.94 2.06.94-2.06 2.06-.94-2.06-.94-.94-2.06-.94 2.06-2.06.94zm-11 1L8.5 8.5l.94-2.06 2.06-.94-2.06-.94L8.5 2.5l-.94 2.06-2.06.94zm10 10l.94 2.06.94-2.06 2.06-.94-2.06-.94-.94-2.06-.94 2.06-2.06.94z\"/><path d=\"M17.41 7.96l-1.37-1.37c-.4-.4-.92-.59-1.43-.59-.52 0-1.04.2-1.43.59L10.3 9.45l-7.72 7.72c-.78.78-.78 2.05 0 2.83L4 21.41c.39.39.9.59 1.41.59.51 0 1.02-.2 1.41-.59l7.78-7.78 2.81-2.81c.8-.78.8-2.07 0-2.86zM5.41 20L4 18.59l7.72-7.72 1.47 1.35L5.41 20z\"/>\n",
              "  </svg>\n",
              "      </button>\n",
              "\n",
              "\n",
              "\n",
              "    <div id=\"df-b538a79b-8c0a-4bb8-b4ed-547ad780b624\">\n",
              "      <button class=\"colab-df-quickchart\" onclick=\"quickchart('df-b538a79b-8c0a-4bb8-b4ed-547ad780b624')\"\n",
              "              title=\"Suggest charts.\"\n",
              "              style=\"display:none;\">\n",
              "\n",
              "<svg xmlns=\"http://www.w3.org/2000/svg\" height=\"24px\"viewBox=\"0 0 24 24\"\n",
              "     width=\"24px\">\n",
              "    <g>\n",
              "        <path d=\"M19 3H5c-1.1 0-2 .9-2 2v14c0 1.1.9 2 2 2h14c1.1 0 2-.9 2-2V5c0-1.1-.9-2-2-2zM9 17H7v-7h2v7zm4 0h-2V7h2v10zm4 0h-2v-4h2v4z\"/>\n",
              "    </g>\n",
              "</svg>\n",
              "      </button>\n",
              "    </div>\n",
              "\n",
              "<style>\n",
              "  .colab-df-quickchart {\n",
              "    background-color: #E8F0FE;\n",
              "    border: none;\n",
              "    border-radius: 50%;\n",
              "    cursor: pointer;\n",
              "    display: none;\n",
              "    fill: #1967D2;\n",
              "    height: 32px;\n",
              "    padding: 0 0 0 0;\n",
              "    width: 32px;\n",
              "  }\n",
              "\n",
              "  .colab-df-quickchart:hover {\n",
              "    background-color: #E2EBFA;\n",
              "    box-shadow: 0px 1px 2px rgba(60, 64, 67, 0.3), 0px 1px 3px 1px rgba(60, 64, 67, 0.15);\n",
              "    fill: #174EA6;\n",
              "  }\n",
              "\n",
              "  [theme=dark] .colab-df-quickchart {\n",
              "    background-color: #3B4455;\n",
              "    fill: #D2E3FC;\n",
              "  }\n",
              "\n",
              "  [theme=dark] .colab-df-quickchart:hover {\n",
              "    background-color: #434B5C;\n",
              "    box-shadow: 0px 1px 3px 1px rgba(0, 0, 0, 0.15);\n",
              "    filter: drop-shadow(0px 1px 2px rgba(0, 0, 0, 0.3));\n",
              "    fill: #FFFFFF;\n",
              "  }\n",
              "</style>\n",
              "\n",
              "    <script>\n",
              "      async function quickchart(key) {\n",
              "        const containerElement = document.querySelector('#' + key);\n",
              "        const charts = await google.colab.kernel.invokeFunction(\n",
              "            'suggestCharts', [key], {});\n",
              "      }\n",
              "    </script>\n",
              "\n",
              "      <script>\n",
              "\n",
              "function displayQuickchartButton(domScope) {\n",
              "  let quickchartButtonEl =\n",
              "    domScope.querySelector('#df-b538a79b-8c0a-4bb8-b4ed-547ad780b624 button.colab-df-quickchart');\n",
              "  quickchartButtonEl.style.display =\n",
              "    google.colab.kernel.accessAllowed ? 'block' : 'none';\n",
              "}\n",
              "\n",
              "        displayQuickchartButton(document);\n",
              "      </script>\n",
              "      <style>\n",
              "    .colab-df-container {\n",
              "      display:flex;\n",
              "      flex-wrap:wrap;\n",
              "      gap: 12px;\n",
              "    }\n",
              "\n",
              "    .colab-df-convert {\n",
              "      background-color: #E8F0FE;\n",
              "      border: none;\n",
              "      border-radius: 50%;\n",
              "      cursor: pointer;\n",
              "      display: none;\n",
              "      fill: #1967D2;\n",
              "      height: 32px;\n",
              "      padding: 0 0 0 0;\n",
              "      width: 32px;\n",
              "    }\n",
              "\n",
              "    .colab-df-convert:hover {\n",
              "      background-color: #E2EBFA;\n",
              "      box-shadow: 0px 1px 2px rgba(60, 64, 67, 0.3), 0px 1px 3px 1px rgba(60, 64, 67, 0.15);\n",
              "      fill: #174EA6;\n",
              "    }\n",
              "\n",
              "    [theme=dark] .colab-df-convert {\n",
              "      background-color: #3B4455;\n",
              "      fill: #D2E3FC;\n",
              "    }\n",
              "\n",
              "    [theme=dark] .colab-df-convert:hover {\n",
              "      background-color: #434B5C;\n",
              "      box-shadow: 0px 1px 3px 1px rgba(0, 0, 0, 0.15);\n",
              "      filter: drop-shadow(0px 1px 2px rgba(0, 0, 0, 0.3));\n",
              "      fill: #FFFFFF;\n",
              "    }\n",
              "  </style>\n",
              "\n",
              "      <script>\n",
              "        const buttonEl =\n",
              "          document.querySelector('#df-ff7b9a2f-b0db-4f4f-9a00-bca7d24fc079 button.colab-df-convert');\n",
              "        buttonEl.style.display =\n",
              "          google.colab.kernel.accessAllowed ? 'block' : 'none';\n",
              "\n",
              "        async function convertToInteractive(key) {\n",
              "          const element = document.querySelector('#df-ff7b9a2f-b0db-4f4f-9a00-bca7d24fc079');\n",
              "          const dataTable =\n",
              "            await google.colab.kernel.invokeFunction('convertToInteractive',\n",
              "                                                     [key], {});\n",
              "          if (!dataTable) return;\n",
              "\n",
              "          const docLinkHtml = 'Like what you see? Visit the ' +\n",
              "            '<a target=\"_blank\" href=https://colab.research.google.com/notebooks/data_table.ipynb>data table notebook</a>'\n",
              "            + ' to learn more about interactive tables.';\n",
              "          element.innerHTML = '';\n",
              "          dataTable['output_type'] = 'display_data';\n",
              "          await google.colab.output.renderOutput(dataTable, element);\n",
              "          const docLink = document.createElement('div');\n",
              "          docLink.innerHTML = docLinkHtml;\n",
              "          element.appendChild(docLink);\n",
              "        }\n",
              "      </script>\n",
              "    </div>\n",
              "  </div>\n"
            ]
          },
          "metadata": {},
          "execution_count": 27
        }
      ]
    },
    {
      "cell_type": "code",
      "source": [
        "df6 = df4.corr()\n",
        "csv = df6.to_csv(\"/content/drive/Shareddrives/USC Baseball/ML Stuff/HitCorr*.csv\", index=False)"
      ],
      "metadata": {
        "id": "KUBnTgjFhlGF"
      },
      "execution_count": 28,
      "outputs": []
    },
    {
      "cell_type": "markdown",
      "source": [
        "Determines the Mean, STD, Median, 25th %, and 75th% of Variables Grouped by Hit or Not Hit"
      ],
      "metadata": {
        "id": "YicOdLfMmjvi"
      }
    },
    {
      "cell_type": "code",
      "source": [
        "import statistics\n",
        "\n",
        "# 'target_column' is the name of the column with 0s and 1s, and 'predictor_columns' is a list of predictor column names.\n",
        "\n",
        "def compute_statistics_by_target(df, target_column, predictor_columns):\n",
        "    # Group the dataframe by the target variable and calculate statistics for each group\n",
        "    grouped = df.groupby(target_column)\n",
        "\n",
        "    # Initialize a dictionary to store the statistics for each group\n",
        "    statistics_dict = {}\n",
        "\n",
        "    for target_value, group in grouped:\n",
        "        # Calculate the means for each predictor column\n",
        "        means = group[predictor_columns].mean()\n",
        "\n",
        "        # Calculate the standard deviations for each predictor column\n",
        "        std_devs = group[predictor_columns].std()\n",
        "\n",
        "        # Calculate the medians for each predictor column\n",
        "        medians = group[predictor_columns].median()\n",
        "\n",
        "        # Calculate the 25th percentile for each predictor column\n",
        "        percentile_25 = group[predictor_columns].quantile(0.25)\n",
        "\n",
        "        # Calculate the 75th percentile for each predictor column\n",
        "        percentile_75 = group[predictor_columns].quantile(0.75)\n",
        "\n",
        "        # Combine the means and standard deviations for each group into a single row\n",
        "        row = means.tolist() + std_devs.tolist() + medians.tolist() + percentile_25.tolist() + percentile_75.tolist()\n",
        "\n",
        "        # Add the row to the statistics dictionary\n",
        "        statistics_dict[target_value] = row\n",
        "\n",
        "    # Convert the dictionary to a dataframe and set the index\n",
        "    statistics_df = pd.DataFrame.from_dict(statistics_dict, orient='index', columns=predictor_columns +\n",
        "                                        [f'Std_Dev_{col}' for col in predictor_columns] +\n",
        "                                        [f'Median_{col}' for col in predictor_columns] +\n",
        "                                        [f'Percentile_25_{col}' for col in predictor_columns] +\n",
        "                                        [f'Percentile_75_{col}' for col in predictor_columns])\n",
        "\n",
        "\n",
        "    return statistics_df\n",
        "\n",
        "# Example usage:\n",
        "target_column_name = 'isHit'\n",
        "predictor_columns_list = ['pitchType', 'pitcherHand', 'hitterHand', 'ExitSpeed', 'Angle', 'xSpray', 'ySpray', 'HitSpinRate', 'Distance', 'Bearing', 'HangTime', 'MaxHeight', 'ContactPositionX', 'ContactPositionY', 'ContactPositionZ']\n",
        "statistics_table = compute_statistics_by_target(df, target_column_name, predictor_columns_list)\n",
        "\n",
        "print(statistics_table)"
      ],
      "metadata": {
        "colab": {
          "base_uri": "https://localhost:8080/"
        },
        "id": "Twt26mE6mfMf",
        "outputId": "4036e7b7-2744-480e-b95c-1a93305a4ec4"
      },
      "execution_count": 29,
      "outputs": [
        {
          "output_type": "stream",
          "name": "stdout",
          "text": [
            "   pitchType  pitcherHand  hitterHand  ExitSpeed      Angle    xSpray  \\\n",
            "0   0.629922     0.249810    0.358557  82.106823  11.552601  1.182637   \n",
            "1   0.606346     0.251782    0.366435  91.715885  10.322717 -6.877970   \n",
            "\n",
            "       ySpray  HitSpinRate    Distance   Bearing  ...  Percentile_75_xSpray  \\\n",
            "0  136.510891  3156.021696  147.286147 -0.262379  ...             19.041240   \n",
            "1  178.030777  2569.678787  196.797005 -2.651991  ...             48.185581   \n",
            "\n",
            "   Percentile_75_ySpray  Percentile_75_HitSpinRate  Percentile_75_Distance  \\\n",
            "0            264.872161                4127.318907               292.04475   \n",
            "1            264.386196                3240.623878               292.75192   \n",
            "\n",
            "   Percentile_75_Bearing  Percentile_75_HangTime  Percentile_75_MaxHeight  \\\n",
            "0              17.257073                4.634043                86.959160   \n",
            "1              17.876045                3.439022                40.862295   \n",
            "\n",
            "   Percentile_75_ContactPositionX  Percentile_75_ContactPositionY  \\\n",
            "0                         2.36231                        2.785370   \n",
            "1                         2.27805                        2.734545   \n",
            "\n",
            "   Percentile_75_ContactPositionZ  \n",
            "0                        0.423470  \n",
            "1                        0.388775  \n",
            "\n",
            "[2 rows x 75 columns]\n"
          ]
        }
      ]
    },
    {
      "cell_type": "code",
      "source": [
        "csv = statistics_table.to_csv(\"/content/drive/Shareddrives/USC Baseball/ML Stuff/HitANOVA*.csv\", index=False)"
      ],
      "metadata": {
        "id": "W-fPIFMwm9e7"
      },
      "execution_count": 30,
      "outputs": []
    },
    {
      "cell_type": "markdown",
      "source": [
        "# Making ML Model"
      ],
      "metadata": {
        "id": "x77XLOK9kN5F"
      }
    },
    {
      "cell_type": "code",
      "source": [
        "df['isHit'].value_counts()"
      ],
      "metadata": {
        "colab": {
          "base_uri": "https://localhost:8080/"
        },
        "id": "2Frr1R8M5fap",
        "outputId": "2a00009e-8e67-47f5-ef53-e7da65e539ff"
      },
      "execution_count": 61,
      "outputs": [
        {
          "output_type": "execute_result",
          "data": {
            "text/plain": [
              "0    209275\n",
              "1    115322\n",
              "Name: isHit, dtype: int64"
            ]
          },
          "metadata": {},
          "execution_count": 61
        }
      ]
    },
    {
      "cell_type": "code",
      "source": [
        "minority_class = df[df['isHit'] == 1]\n",
        "majority_class = df[df['isHit'] == 0]\n",
        "\n",
        "print(\"majority class is: \" + str(len(majority_class)))\n",
        "print(\"minority class is: \" + str(len(minority_class)))\n",
        "\n",
        "print(\"total is: \" + str(len(majority_class)+len(minority_class)))"
      ],
      "metadata": {
        "colab": {
          "base_uri": "https://localhost:8080/"
        },
        "id": "UaWH8ZFE5nC3",
        "outputId": "4685cef5-f445-42db-879e-66781b271848"
      },
      "execution_count": 64,
      "outputs": [
        {
          "output_type": "stream",
          "name": "stdout",
          "text": [
            "majority class is: 209275\n",
            "minority class is: 115322\n",
            "total is: 324597\n"
          ]
        }
      ]
    },
    {
      "cell_type": "code",
      "source": [
        "cleandf = df.dropna(subset=['ExitSpeed', 'Angle', 'xSpray', 'ySpray',  'MaxHeight', 'pitchType', 'pitcherHand', 'hitterHand', 'isHit'])"
      ],
      "metadata": {
        "id": "JmPgO2kY2A6l"
      },
      "execution_count": 170,
      "outputs": []
    },
    {
      "cell_type": "code",
      "execution_count": 171,
      "metadata": {
        "colab": {
          "base_uri": "https://localhost:8080/"
        },
        "id": "zVlQPMNu7wcY",
        "outputId": "f07238f1-04df-435e-800b-c647403b1c68"
      },
      "outputs": [
        {
          "output_type": "execute_result",
          "data": {
            "text/plain": [
              "0    174684\n",
              "1    108494\n",
              "Name: isHit, dtype: int64"
            ]
          },
          "metadata": {},
          "execution_count": 171
        }
      ],
      "source": [
        "cleandf['isHit'].value_counts()"
      ]
    },
    {
      "cell_type": "code",
      "execution_count": 172,
      "metadata": {
        "colab": {
          "base_uri": "https://localhost:8080/"
        },
        "id": "D7mHzziV9Ea5",
        "outputId": "3c7a9deb-2856-4267-f500-42ec73cf1442"
      },
      "outputs": [
        {
          "output_type": "stream",
          "name": "stdout",
          "text": [
            "majority class is: 174684\n",
            "minority class is: 108494\n",
            "total is: 283178\n"
          ]
        }
      ],
      "source": [
        "minority_class = cleandf[cleandf['isHit'] == 1]\n",
        "majority_class = cleandf[cleandf['isHit'] == 0]\n",
        "\n",
        "print(\"majority class is: \" + str(len(majority_class)))\n",
        "print(\"minority class is: \" + str(len(minority_class)))\n",
        "\n",
        "print(\"total is: \" + str(len(majority_class)+len(minority_class)))\n",
        "\n",
        "# Retains 87.23987% of data"
      ]
    },
    {
      "cell_type": "code",
      "execution_count": 173,
      "metadata": {
        "id": "tsbcZU879aP4"
      },
      "outputs": [],
      "source": [
        "# resamples the class to have a even distribution of hits and non-hits\n",
        "# implements downsample on majority class (non-hits) and oversample on minority class (hits)\n",
        "# Idea: bring to the average of minority class & majority class\n",
        "\n",
        "average = int((len(majority_class) + len(minority_class))/2)\n",
        "\n",
        "from sklearn.utils import resample\n",
        "majority_class_downsampled = resample(majority_class,\n",
        "                                      replace=False,  # sample without replacement\n",
        "                                      n_samples=average,  # match average size\n",
        "                                      random_state=42)\n",
        "minority_class_oversampled = resample(minority_class,\n",
        "                                      replace=True,\n",
        "                                      n_samples=average,\n",
        "                                      random_state = 42)\n",
        "\n",
        "\n",
        "# Combine minority class and downsampled majority class\n",
        "balanced_df = pd.concat([minority_class_oversampled, majority_class_downsampled])"
      ]
    },
    {
      "cell_type": "code",
      "source": [
        "balanced_df = balanced_df.sample(frac=1, random_state=42)"
      ],
      "metadata": {
        "id": "WFj7jL-8RRy0"
      },
      "execution_count": 174,
      "outputs": []
    },
    {
      "cell_type": "code",
      "execution_count": 175,
      "metadata": {
        "id": "B3gw1VK6R1kX"
      },
      "outputs": [],
      "source": [
        "rel_data = balanced_df[['ExitSpeed', 'Angle', 'xSpray', 'ySpray', 'MaxHeight', 'pitchType', 'pitcherHand', 'hitterHand']].to_numpy()\n",
        "classification = balanced_df['isHit'].to_numpy()"
      ]
    },
    {
      "cell_type": "code",
      "execution_count": 176,
      "metadata": {
        "colab": {
          "base_uri": "https://localhost:8080/"
        },
        "outputId": "e27252ac-92a8-441e-d5fd-5811108b0fae",
        "id": "QVWpzrTKR1kY"
      },
      "outputs": [
        {
          "output_type": "stream",
          "name": "stdout",
          "text": [
            "majority class is: 141589\n",
            "minority class is: 141589\n",
            "total is: 283178\n"
          ]
        }
      ],
      "source": [
        "minority = balanced_df[balanced_df['isHit'] == 1]\n",
        "majority = balanced_df[balanced_df['isHit'] == 0]\n",
        "\n",
        "print(\"majority class is: \" + str(len(majority)))\n",
        "print(\"minority class is: \" + str(len(minority)))\n",
        "\n",
        "print(\"total is: \" + str(len(majority)+len(minority)))"
      ]
    },
    {
      "cell_type": "code",
      "execution_count": 177,
      "metadata": {
        "id": "MfsqxCrHR1kZ"
      },
      "outputs": [],
      "source": [
        "trainNum = int((len(majority) + len(minority))*0.7)\n",
        "\n",
        "y = np.unique(classification, return_inverse=True)\n",
        "y_train = y[1][:trainNum]\n",
        "y_test = y[1][trainNum:]\n",
        "\n",
        "x = np.unique(classification, return_inverse=True)\n",
        "x_train = rel_data[:trainNum]\n",
        "x_test = rel_data[trainNum:]"
      ]
    },
    {
      "cell_type": "code",
      "execution_count": 178,
      "metadata": {
        "id": "oRzLppblR1kZ"
      },
      "outputs": [],
      "source": [
        "from sklearn import preprocessing\n",
        "\n",
        "scaler = preprocessing.StandardScaler().fit(x_train)\n",
        "X_scaled = scaler.transform(x_train)"
      ]
    },
    {
      "cell_type": "code",
      "execution_count": 179,
      "metadata": {
        "id": "TXQvBQzxR1ka"
      },
      "outputs": [],
      "source": [
        "import matplotlib.pyplot as plt\n",
        "from matplotlib.colors import ListedColormap\n",
        "from sklearn.model_selection import train_test_split\n",
        "from sklearn.preprocessing import StandardScaler\n",
        "from sklearn.pipeline import make_pipeline\n",
        "from sklearn.datasets import make_moons, make_circles, make_classification\n",
        "from sklearn.tree import DecisionTreeClassifier\n",
        "from sklearn.ensemble import RandomForestClassifier, AdaBoostClassifier\n",
        "\n",
        "names = [\n",
        "    \"Decision Tree\",\n",
        "    \"Random Forest\"\n",
        "]\n",
        "\n",
        "classifiers = [\n",
        "    #DecisionTreeClassifier(max_depth=50),\n",
        "    #DecisionTreeClassifier(max_depth=5),\n",
        "    RandomForestClassifier(max_depth=None, n_estimators=50)\n",
        "]"
      ]
    },
    {
      "cell_type": "code",
      "execution_count": 180,
      "metadata": {
        "id": "J10EAIcRR1ka"
      },
      "outputs": [],
      "source": [
        "accuracies = []\n",
        "for opt in classifiers:\n",
        "  clf = make_pipeline(StandardScaler(), opt)\n",
        "  clf.fit(x_train, y_train)\n",
        "\n",
        "  y_pred = clf.predict((x_test))\n",
        "  accuracies.append(metrics.accuracy_score(y_test, y_pred))"
      ]
    },
    {
      "cell_type": "code",
      "execution_count": 181,
      "metadata": {
        "colab": {
          "base_uri": "https://localhost:8080/"
        },
        "outputId": "4604d9b1-0dd3-49ea-8f55-1aef394667e6",
        "id": "F-3zLuzeR1ka"
      },
      "outputs": [
        {
          "output_type": "stream",
          "name": "stdout",
          "text": [
            "              precision    recall  f1-score   support\n",
            "\n",
            "     not hit       0.95      0.94      0.94     42311\n",
            "         hit       0.94      0.95      0.95     42643\n",
            "\n",
            "    accuracy                           0.95     84954\n",
            "   macro avg       0.95      0.95      0.95     84954\n",
            "weighted avg       0.95      0.95      0.95     84954\n",
            "\n"
          ]
        }
      ],
      "source": [
        "from sklearn.metrics import classification_report\n",
        "target_names = ['not hit', 'hit']\n",
        "print(classification_report(y_test, y_pred, target_names=target_names))"
      ]
    },
    {
      "cell_type": "code",
      "source": [
        "print(accuracies)\n",
        "# Old model; loses too much data because of 'HitSpinRate' column\n",
        "# Variables:'ExitSpeed', 'Angle', 'xSpray', 'ySpray', 'HitSpinRate', 'MaxHeight', 'pitchType', 'pitcherHand', 'hitterHand'"
      ],
      "metadata": {
        "colab": {
          "base_uri": "https://localhost:8080/"
        },
        "id": "KUsq1dByDj7m",
        "outputId": "772c6178-9218-4862-cde7-bc53cb539b93"
      },
      "execution_count": 161,
      "outputs": [
        {
          "output_type": "stream",
          "name": "stdout",
          "text": [
            "[0.9492242844998583]\n"
          ]
        }
      ]
    },
    {
      "cell_type": "code",
      "source": [
        "print(\"New variable features:\")\n",
        "# Final Model Accuracy: 94.502907%\n",
        "print(accuracies)"
      ],
      "metadata": {
        "colab": {
          "base_uri": "https://localhost:8080/"
        },
        "id": "_qZ_JAT36EaV",
        "outputId": "0c6f91f0-7a29-4fcb-a427-53c4eac8fabd"
      },
      "execution_count": 182,
      "outputs": [
        {
          "output_type": "stream",
          "name": "stdout",
          "text": [
            "New variable features:\n",
            "[0.9450290745579961]\n"
          ]
        }
      ]
    },
    {
      "cell_type": "markdown",
      "source": [
        "# Export Final Model"
      ],
      "metadata": {
        "id": "GNTgIHpnYU43"
      }
    },
    {
      "cell_type": "code",
      "execution_count": 183,
      "metadata": {
        "colab": {
          "base_uri": "https://localhost:8080/"
        },
        "id": "Dn_iHAoThsBt",
        "outputId": "977b5e81-e85b-4b4c-85cb-380270ac54e6"
      },
      "outputs": [
        {
          "output_type": "execute_result",
          "data": {
            "text/plain": [
              "['batting_avg_model4.joblib']"
            ]
          },
          "metadata": {},
          "execution_count": 183
        }
      ],
      "source": [
        "import joblib\n",
        "from joblib import dump\n",
        "\n",
        "import os\n",
        "os.chdir('/content/drive/Shareddrives/USC Baseball/SabermetricFiles')\n",
        "\n",
        "# export the trained model to disk\n",
        "joblib.dump(clf, 'batting_avg_model4.joblib')"
      ]
    }
  ],
  "metadata": {
    "colab": {
      "provenance": [],
      "machine_shape": "hm",
      "gpuType": "A100",
      "include_colab_link": true
    },
    "kernelspec": {
      "display_name": "Python 3",
      "name": "python3"
    },
    "language_info": {
      "name": "python"
    },
    "accelerator": "GPU"
  },
  "nbformat": 4,
  "nbformat_minor": 0
}